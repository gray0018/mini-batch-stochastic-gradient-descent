{
 "cells": [
  {
   "cell_type": "code",
   "execution_count": 1,
   "metadata": {
    "ExecuteTime": {
     "end_time": "2019-06-11T06:42:07.324902Z",
     "start_time": "2019-06-11T06:42:05.140279Z"
    }
   },
   "outputs": [],
   "source": [
    "%matplotlib inline\n",
    "from IPython import display\n",
    "from matplotlib import pyplot as plt\n",
    "from mxnet import autograd, nd\n",
    "import random"
   ]
  },
  {
   "cell_type": "code",
   "execution_count": 2,
   "metadata": {
    "ExecuteTime": {
     "end_time": "2019-06-11T07:01:45.946493Z",
     "start_time": "2019-06-11T07:01:45.939606Z"
    }
   },
   "outputs": [],
   "source": [
    "f_n = 2\n",
    "d = 1000\n",
    "gt_w = nd.array([2,-3.4])\n",
    "gt_b = 4.2"
   ]
  },
  {
   "cell_type": "code",
   "execution_count": 3,
   "metadata": {
    "ExecuteTime": {
     "end_time": "2019-06-11T07:02:15.012163Z",
     "start_time": "2019-06-11T07:02:15.001557Z"
    }
   },
   "outputs": [],
   "source": [
    "f = nd.random.normal(scale=1, shape=(f_n, d))\n",
    "noise = nd.random.normal(scale=0.01, shape=d)\n",
    "gt_y = nd.dot(gt_w, f)+gt_b+noise"
   ]
  },
  {
   "cell_type": "code",
   "execution_count": null,
   "metadata": {
    "code_folding": [
     0
    ]
   },
   "outputs": [],
   "source": [
    "# 用矢量图显示\n",
    "display.set_matplotlib_formats('svg')\n",
    "plt.rcParams['figure.figsize'] = (3.5, 2.5)\n",
    "plt.scatter(f[1].asnumpy(), gt_y.asnumpy(), 1);  # 加分号只显示图"
   ]
  },
  {
   "cell_type": "code",
   "execution_count": 5,
   "metadata": {
    "code_folding": [
     0
    ]
   },
   "outputs": [],
   "source": [
    "def data_iter(batch_size, features, labels):\n",
    "    d = len(features)\n",
    "    indices = list(range(d))\n",
    "    random.shuffle(indices)\n",
    "    for i in range(0, d, batch_size):\n",
    "        j = nd.array(indices[i:min(i+batch_size, d)])\n",
    "        yield features.take(j), labels.take(j)"
   ]
  },
  {
   "cell_type": "code",
   "execution_count": null,
   "metadata": {
    "code_folding": []
   },
   "outputs": [],
   "source": [
    "for item in data_iter(10, f.T, gt_y):\n",
    "    print(item)\n",
    "    break"
   ]
  },
  {
   "cell_type": "code",
   "execution_count": 6,
   "metadata": {},
   "outputs": [],
   "source": [
    "batch_size = 10\n",
    "\n",
    "w = nd.random.normal(scale=0.01, shape=(f_n, 1))\n",
    "b = nd.zeros(shape=(1,))\n",
    "w.attach_grad()\n",
    "b.attach_grad()"
   ]
  },
  {
   "cell_type": "code",
   "execution_count": 7,
   "metadata": {},
   "outputs": [],
   "source": [
    "def loss(x, w, b, y):\n",
    "    return (nd.dot(x, w)+b-y.reshape(y.shape[0], 1))**2 / 2"
   ]
  },
  {
   "cell_type": "code",
   "execution_count": 8,
   "metadata": {},
   "outputs": [
    {
     "name": "stdout",
     "output_type": "stream",
     "text": [
      "epoch 1, training loss 0.046826060861349106\n",
      "epoch 2, training loss 0.00031917053274810314\n",
      "epoch 3, training loss 4.352915129857138e-05\n"
     ]
    }
   ],
   "source": [
    "lr = 0.03\n",
    "num_epochs = 3\n",
    "\n",
    "for epoch in range(num_epochs):\n",
    "    for x, y in data_iter(batch_size, f.T, gt_y):\n",
    "        with autograd.record():\n",
    "            l = loss(x, w, b, y)\n",
    "        l.backward()\n",
    "        w -= lr/batch_size*w.grad\n",
    "        b -= lr/batch_size*b.grad\n",
    "    print(\"epoch {0}, training loss {1}\".format(epoch+1, loss(x, w, b, y).mean().asscalar()))"
   ]
  },
  {
   "cell_type": "code",
   "execution_count": 9,
   "metadata": {},
   "outputs": [
    {
     "data": {
      "text/plain": [
       "(\n",
       " [[-2.5749207e-05  8.8548660e-04]]\n",
       " <NDArray 1x2 @cpu(0)>, \n",
       " [-0.00015163]\n",
       " <NDArray 1 @cpu(0)>)"
      ]
     },
     "execution_count": 9,
     "metadata": {},
     "output_type": "execute_result"
    }
   ],
   "source": [
    "w.T-gt_w, b-gt_b"
   ]
  }
 ],
 "metadata": {
  "kernelspec": {
   "display_name": "Python 3",
   "language": "python",
   "name": "python3"
  },
  "language_info": {
   "codemirror_mode": {
    "name": "ipython",
    "version": 3
   },
   "file_extension": ".py",
   "mimetype": "text/x-python",
   "name": "python",
   "nbconvert_exporter": "python",
   "pygments_lexer": "ipython3",
   "version": "3.7.3"
  },
  "latex_envs": {
   "LaTeX_envs_menu_present": true,
   "autoclose": false,
   "autocomplete": true,
   "bibliofile": "biblio.bib",
   "cite_by": "apalike",
   "current_citInitial": 1,
   "eqLabelWithNumbers": true,
   "eqNumInitial": 1,
   "hotkeys": {
    "equation": "Ctrl-E",
    "itemize": "Ctrl-I"
   },
   "labels_anchors": false,
   "latex_user_defs": false,
   "report_style_numbering": false,
   "user_envs_cfg": false
  },
  "varInspector": {
   "cols": {
    "lenName": 16,
    "lenType": 16,
    "lenVar": 40
   },
   "kernels_config": {
    "python": {
     "delete_cmd_postfix": "",
     "delete_cmd_prefix": "del ",
     "library": "var_list.py",
     "varRefreshCmd": "print(var_dic_list())"
    },
    "r": {
     "delete_cmd_postfix": ") ",
     "delete_cmd_prefix": "rm(",
     "library": "var_list.r",
     "varRefreshCmd": "cat(var_dic_list()) "
    }
   },
   "position": {
    "height": "207.5px",
    "left": "775px",
    "right": "20px",
    "top": "11px",
    "width": "486px"
   },
   "types_to_exclude": [
    "module",
    "function",
    "builtin_function_or_method",
    "instance",
    "_Feature"
   ],
   "window_display": true
  }
 },
 "nbformat": 4,
 "nbformat_minor": 2
}
